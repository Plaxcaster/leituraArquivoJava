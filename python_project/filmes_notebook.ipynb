{
 "cells": [
  {
   "cell_type": "code",
   "execution_count": 1,
   "id": "7a800af7",
   "metadata": {},
   "outputs": [],
   "source": [
    "import pandas as pd\n",
    "import datetime"
   ]
  },
  {
   "cell_type": "code",
   "execution_count": 2,
   "id": "3dcdb4d6",
   "metadata": {},
   "outputs": [],
   "source": [
    "start_time = datetime.datetime.now()"
   ]
  },
  {
   "cell_type": "code",
   "execution_count": 3,
   "id": "76e7d0d6",
   "metadata": {},
   "outputs": [],
   "source": [
    "df1 = pd.read_csv(\"movies1.csv\")\n",
    "df2 = pd.read_csv(\"movies2.csv\")\n",
    "df3 = pd.read_csv(\"movies3.csv\")"
   ]
  },
  {
   "cell_type": "code",
   "execution_count": 4,
   "id": "a9381445",
   "metadata": {},
   "outputs": [],
   "source": [
    "df2.columns=df1.columns\n",
    "df3.columns=df1.columns"
   ]
  },
  {
   "cell_type": "code",
   "execution_count": 5,
   "id": "0f02511f",
   "metadata": {},
   "outputs": [],
   "source": [
    "df = pd.concat([df1,df2,df3])"
   ]
  },
  {
   "cell_type": "code",
   "execution_count": 6,
   "id": "f7d7113f",
   "metadata": {},
   "outputs": [],
   "source": [
    "df = df.drop_duplicates()"
   ]
  },
  {
   "cell_type": "code",
   "execution_count": 7,
   "id": "af291546",
   "metadata": {},
   "outputs": [],
   "source": [
    "df[df['Genre'].str.contains(\"Horror\")].sort_values(by='Rating', ascending=False).head(20).to_csv('python_output/horror_top20.csv', index=False,)  "
   ]
  },
  {
   "cell_type": "code",
   "execution_count": 8,
   "id": "d8c32b6d",
   "metadata": {},
   "outputs": [],
   "source": [
    "for year in df.Year.unique():\n",
    "   df.query(\"Year == @year\").sort_values(by='Rating', ascending=False).head(50).to_csv(f'python_output/top50_year{year}',index=False)"
   ]
  },
  {
   "cell_type": "code",
   "execution_count": 9,
   "id": "9b3e272d",
   "metadata": {},
   "outputs": [
    {
     "name": "stdout",
     "output_type": "stream",
     "text": [
      "Time difference is 0.170858 seconds\n",
      "Time difference is 170.858 milliseconds\n"
     ]
    }
   ],
   "source": [
    "# get difference\n",
    "end_time = datetime.datetime.now()\n",
    "delta = end_time - start_time\n",
    "\n",
    "# time difference in seconds\n",
    "print(f\"Time difference is {delta.total_seconds()} seconds\")\n",
    "\n",
    "# time difference in milliseconds\n",
    "ms = delta.total_seconds() * 1000\n",
    "print(f\"Time difference is {ms} milliseconds\")"
   ]
  },
  {
   "cell_type": "code",
   "execution_count": 16,
   "id": "cf40a705",
   "metadata": {},
   "outputs": [],
   "source": [
    "f = open(\"python_output/processing_time.txt\", \"w\")\n",
    "f.write(f'Start time: {start_time}\\nEnd time: {end_time}\\nProcessing time was\\\n",
    "{delta.total_seconds()} seconds\\nProcessing time was {delta.total_seconds()*1000} miliseconds')\n",
    "f.close()"
   ]
  }
 ],
 "metadata": {
  "kernelspec": {
   "display_name": "Python 3 (ipykernel)",
   "language": "python",
   "name": "python3"
  },
  "language_info": {
   "codemirror_mode": {
    "name": "ipython",
    "version": 3
   },
   "file_extension": ".py",
   "mimetype": "text/x-python",
   "name": "python",
   "nbconvert_exporter": "python",
   "pygments_lexer": "ipython3",
   "version": "3.9.7"
  },
  "vscode": {
   "interpreter": {
    "hash": "323ef731bc69da7496dfce4394ea124f5170b661abf966e08e656c0859209617"
   }
  }
 },
 "nbformat": 4,
 "nbformat_minor": 5
}
